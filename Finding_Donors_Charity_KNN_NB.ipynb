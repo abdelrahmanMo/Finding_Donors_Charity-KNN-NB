{
  "nbformat": 4,
  "nbformat_minor": 0,
  "metadata": {
    "colab": {
      "name": "Finding_Donors_Charity-KNN-NB.ipynb",
      "provenance": [],
      "mount_file_id": "1Gyys3z_guFjjVodkwQeuXlPhsYDB9bVa",
      "authorship_tag": "ABX9TyMh4SlJj24dAJ208mcjTbu3",
      "include_colab_link": true
    },
    "kernelspec": {
      "name": "python3",
      "display_name": "Python 3"
    }
  },
  "cells": [
    {
      "cell_type": "markdown",
      "metadata": {
        "id": "view-in-github",
        "colab_type": "text"
      },
      "source": [
        "<a href=\"https://colab.research.google.com/github/abdelrahmanMo/Finding_Donors_Charity-KNN-NB/blob/master/Finding_Donors_Charity_KNN_NB.ipynb\" target=\"_parent\"><img src=\"https://colab.research.google.com/assets/colab-badge.svg\" alt=\"Open In Colab\"/></a>"
      ]
    },
    {
      "cell_type": "code",
      "metadata": {
        "id": "O4OjyPOxdJNa",
        "colab_type": "code",
        "colab": {}
      },
      "source": [
        "# Import libraries necessary for this project\n",
        "import numpy as np\n",
        "import pandas as pd\n",
        "from time import time\n",
        "import matplotlib.pyplot as plt\n",
        "%matplotlib inline\n",
        "\n",
        "from sklearn.model_selection import train_test_split\n",
        "from sklearn.preprocessing import MinMaxScaler\n",
        "\n",
        "from sklearn.tree import DecisionTreeClassifier\n",
        "from sklearn.linear_model import LogisticRegression\n",
        "from sklearn.svm import SVC\n",
        "from sklearn.neighbors import KNeighborsClassifier\n",
        "from sklearn.naive_bayes import GaussianNB\n",
        "\n",
        "from sklearn.metrics import accuracy_score, recall_score, precision_score, f1_score, classification_report\n",
        "#from scikitplot.metrics import plot_confusion_matrix\n",
        "\n",
        "from sklearn.model_selection import GridSearchCV\n",
        "from sklearn.metrics import make_scorer\n"
      ],
      "execution_count": 84,
      "outputs": []
    },
    {
      "cell_type": "code",
      "metadata": {
        "id": "IIMKeyigmrbj",
        "colab_type": "code",
        "colab": {}
      },
      "source": [
        "data = pd.read_csv('/content/drive/My Drive/MarkovApplied/section4/census.csv')"
      ],
      "execution_count": 85,
      "outputs": []
    },
    {
      "cell_type": "code",
      "metadata": {
        "id": "cCteRwrF4MGQ",
        "colab_type": "code",
        "colab": {
          "base_uri": "https://localhost:8080/",
          "height": 384
        },
        "outputId": "2163d156-8b78-4dbf-c515-b1fab108bda1"
      },
      "source": [
        "data.head()"
      ],
      "execution_count": 86,
      "outputs": [
        {
          "output_type": "execute_result",
          "data": {
            "text/html": [
              "<div>\n",
              "<style scoped>\n",
              "    .dataframe tbody tr th:only-of-type {\n",
              "        vertical-align: middle;\n",
              "    }\n",
              "\n",
              "    .dataframe tbody tr th {\n",
              "        vertical-align: top;\n",
              "    }\n",
              "\n",
              "    .dataframe thead th {\n",
              "        text-align: right;\n",
              "    }\n",
              "</style>\n",
              "<table border=\"1\" class=\"dataframe\">\n",
              "  <thead>\n",
              "    <tr style=\"text-align: right;\">\n",
              "      <th></th>\n",
              "      <th>age</th>\n",
              "      <th>workclass</th>\n",
              "      <th>education_level</th>\n",
              "      <th>education-num</th>\n",
              "      <th>marital-status</th>\n",
              "      <th>occupation</th>\n",
              "      <th>relationship</th>\n",
              "      <th>race</th>\n",
              "      <th>sex</th>\n",
              "      <th>capital-gain</th>\n",
              "      <th>capital-loss</th>\n",
              "      <th>hours-per-week</th>\n",
              "      <th>native-country</th>\n",
              "      <th>income</th>\n",
              "    </tr>\n",
              "  </thead>\n",
              "  <tbody>\n",
              "    <tr>\n",
              "      <th>0</th>\n",
              "      <td>39</td>\n",
              "      <td>State-gov</td>\n",
              "      <td>Bachelors</td>\n",
              "      <td>13.0</td>\n",
              "      <td>Never-married</td>\n",
              "      <td>Adm-clerical</td>\n",
              "      <td>Not-in-family</td>\n",
              "      <td>White</td>\n",
              "      <td>Male</td>\n",
              "      <td>2174.0</td>\n",
              "      <td>0.0</td>\n",
              "      <td>40.0</td>\n",
              "      <td>United-States</td>\n",
              "      <td>&lt;=50K</td>\n",
              "    </tr>\n",
              "    <tr>\n",
              "      <th>1</th>\n",
              "      <td>50</td>\n",
              "      <td>Self-emp-not-inc</td>\n",
              "      <td>Bachelors</td>\n",
              "      <td>13.0</td>\n",
              "      <td>Married-civ-spouse</td>\n",
              "      <td>Exec-managerial</td>\n",
              "      <td>Husband</td>\n",
              "      <td>White</td>\n",
              "      <td>Male</td>\n",
              "      <td>0.0</td>\n",
              "      <td>0.0</td>\n",
              "      <td>13.0</td>\n",
              "      <td>United-States</td>\n",
              "      <td>&lt;=50K</td>\n",
              "    </tr>\n",
              "    <tr>\n",
              "      <th>2</th>\n",
              "      <td>38</td>\n",
              "      <td>Private</td>\n",
              "      <td>HS-grad</td>\n",
              "      <td>9.0</td>\n",
              "      <td>Divorced</td>\n",
              "      <td>Handlers-cleaners</td>\n",
              "      <td>Not-in-family</td>\n",
              "      <td>White</td>\n",
              "      <td>Male</td>\n",
              "      <td>0.0</td>\n",
              "      <td>0.0</td>\n",
              "      <td>40.0</td>\n",
              "      <td>United-States</td>\n",
              "      <td>&lt;=50K</td>\n",
              "    </tr>\n",
              "    <tr>\n",
              "      <th>3</th>\n",
              "      <td>53</td>\n",
              "      <td>Private</td>\n",
              "      <td>11th</td>\n",
              "      <td>7.0</td>\n",
              "      <td>Married-civ-spouse</td>\n",
              "      <td>Handlers-cleaners</td>\n",
              "      <td>Husband</td>\n",
              "      <td>Black</td>\n",
              "      <td>Male</td>\n",
              "      <td>0.0</td>\n",
              "      <td>0.0</td>\n",
              "      <td>40.0</td>\n",
              "      <td>United-States</td>\n",
              "      <td>&lt;=50K</td>\n",
              "    </tr>\n",
              "    <tr>\n",
              "      <th>4</th>\n",
              "      <td>28</td>\n",
              "      <td>Private</td>\n",
              "      <td>Bachelors</td>\n",
              "      <td>13.0</td>\n",
              "      <td>Married-civ-spouse</td>\n",
              "      <td>Prof-specialty</td>\n",
              "      <td>Wife</td>\n",
              "      <td>Black</td>\n",
              "      <td>Female</td>\n",
              "      <td>0.0</td>\n",
              "      <td>0.0</td>\n",
              "      <td>40.0</td>\n",
              "      <td>Cuba</td>\n",
              "      <td>&lt;=50K</td>\n",
              "    </tr>\n",
              "  </tbody>\n",
              "</table>\n",
              "</div>"
            ],
            "text/plain": [
              "   age          workclass  ...  native-country  income\n",
              "0   39          State-gov  ...   United-States   <=50K\n",
              "1   50   Self-emp-not-inc  ...   United-States   <=50K\n",
              "2   38            Private  ...   United-States   <=50K\n",
              "3   53            Private  ...   United-States   <=50K\n",
              "4   28            Private  ...            Cuba   <=50K\n",
              "\n",
              "[5 rows x 14 columns]"
            ]
          },
          "metadata": {
            "tags": []
          },
          "execution_count": 86
        }
      ]
    },
    {
      "cell_type": "code",
      "metadata": {
        "id": "0UGZPqqYuC5r",
        "colab_type": "code",
        "colab": {}
      },
      "source": [
        ""
      ],
      "execution_count": 86,
      "outputs": []
    },
    {
      "cell_type": "markdown",
      "metadata": {
        "id": "bjuFs2e7uEh7",
        "colab_type": "text"
      },
      "source": [
        "# Data exploration"
      ]
    },
    {
      "cell_type": "code",
      "metadata": {
        "id": "QTqSmEA04OfV",
        "colab_type": "code",
        "colab": {
          "base_uri": "https://localhost:8080/",
          "height": 368
        },
        "outputId": "1099e643-04a8-41fe-d416-fff85086631b"
      },
      "source": [
        "data.info()"
      ],
      "execution_count": 87,
      "outputs": [
        {
          "output_type": "stream",
          "text": [
            "<class 'pandas.core.frame.DataFrame'>\n",
            "RangeIndex: 45222 entries, 0 to 45221\n",
            "Data columns (total 14 columns):\n",
            " #   Column           Non-Null Count  Dtype  \n",
            "---  ------           --------------  -----  \n",
            " 0   age              45222 non-null  int64  \n",
            " 1   workclass        45222 non-null  object \n",
            " 2   education_level  45222 non-null  object \n",
            " 3   education-num    45222 non-null  float64\n",
            " 4   marital-status   45222 non-null  object \n",
            " 5   occupation       45222 non-null  object \n",
            " 6   relationship     45222 non-null  object \n",
            " 7   race             45222 non-null  object \n",
            " 8   sex              45222 non-null  object \n",
            " 9   capital-gain     45222 non-null  float64\n",
            " 10  capital-loss     45222 non-null  float64\n",
            " 11  hours-per-week   45222 non-null  float64\n",
            " 12  native-country   45222 non-null  object \n",
            " 13  income           45222 non-null  object \n",
            "dtypes: float64(4), int64(1), object(9)\n",
            "memory usage: 4.8+ MB\n"
          ],
          "name": "stdout"
        }
      ]
    },
    {
      "cell_type": "code",
      "metadata": {
        "id": "lwmlNXx9q3qv",
        "colab_type": "code",
        "colab": {
          "base_uri": "https://localhost:8080/",
          "height": 84
        },
        "outputId": "ee03f907-f36d-4238-c9e4-65bd0e5432d0"
      },
      "source": [
        "# Total number of records \n",
        "n_records = len(data) \n",
        "\n",
        "# Number of records where individual's income is more than $50,000\n",
        "n_greater_50k= len(data[data['income']==\">50K\"])\n",
        "\n",
        "#آNumber of records where individual's income is at most $50,000\n",
        "n_less_50k = len(data[data['income']==\"<=50K\"])\n",
        "\n",
        "# Percentage of individual's whose income is more than $50,000\n",
        "greater_percent = round((n_greater_50k/n_records)*100)\n",
        "\n",
        "# Print the results\n",
        "print(\"Total number of records: {}\".format(n_records))\n",
        "print(\"Individuals making more than $50,000: {}\".format(n_greater_50k))\n",
        "print(\"Individuals making at most $50,000: {}\".format(n_less_50k))\n",
        "print(\"Percentage of individuals making more than $50,000: {}%\".format(greater_percent))"
      ],
      "execution_count": 88,
      "outputs": [
        {
          "output_type": "stream",
          "text": [
            "Total number of records: 45222\n",
            "Individuals making more than $50,000: 11208\n",
            "Individuals making at most $50,000: 34014\n",
            "Percentage of individuals making more than $50,000: 25%\n"
          ],
          "name": "stdout"
        }
      ]
    },
    {
      "cell_type": "code",
      "metadata": {
        "id": "B1WmPW_FnbsN",
        "colab_type": "code",
        "colab": {
          "base_uri": "https://localhost:8080/",
          "height": 67
        },
        "outputId": "4191f054-c6a1-46b5-f2fd-d33032426d78"
      },
      "source": [
        "data['income'].value_counts()"
      ],
      "execution_count": 89,
      "outputs": [
        {
          "output_type": "execute_result",
          "data": {
            "text/plain": [
              "<=50K    34014\n",
              ">50K     11208\n",
              "Name: income, dtype: int64"
            ]
          },
          "metadata": {
            "tags": []
          },
          "execution_count": 89
        }
      ]
    },
    {
      "cell_type": "code",
      "metadata": {
        "id": "Tn4yyZ9FoXYg",
        "colab_type": "code",
        "colab": {}
      },
      "source": [
        ""
      ],
      "execution_count": 89,
      "outputs": []
    },
    {
      "cell_type": "markdown",
      "metadata": {
        "id": "M82jaUUNRuDU",
        "colab_type": "text"
      },
      "source": [
        "# Preparing the Data"
      ]
    },
    {
      "cell_type": "code",
      "metadata": {
        "id": "5xpfKIFvR2_V",
        "colab_type": "code",
        "colab": {
          "base_uri": "https://localhost:8080/",
          "height": 1000
        },
        "outputId": "e4ae3b08-d2e5-44b8-87ea-72ab0ef8ad04"
      },
      "source": [
        "new_features = data.columns[data.dtypes!='object']\n",
        "def my_plot(feature):\n",
        "  plt.hist(data[feature])\n",
        "  plt.title(feature)\n",
        "  plt.show()\n",
        "\n",
        "for feature in new_features:\n",
        "  my_plot(feature)\n"
      ],
      "execution_count": 90,
      "outputs": [
        {
          "output_type": "display_data",
          "data": {
            "image/png": "[encoded data removed]",
            "text/plain": [
              "<Figure size 432x288 with 1 Axes>"
            ]
          },
          "metadata": {
            "tags": [],
            "needs_background": "light"
          }
        },
        {
          "output_type": "display_data",
          "data": {
            "image/png": "[encoded data removed]",
            "text/plain": [
              "<Figure size 432x288 with 1 Axes>"
            ]
          },
          "metadata": {
            "tags": [],
            "needs_background": "light"
          }
        },
        {
          "output_type": "display_data",
          "data": {
            "image/png": "[encoded data removed]",
            "text/plain": [
              "<Figure size 432x288 with 1 Axes>"
            ]
          },
          "metadata": {
            "tags": [],
            "needs_background": "light"
          }
        },
        {
          "output_type": "display_data",
          "data": {
            "image/png": "[encoded data removed]",
            "text/plain": [
              "<Figure size 432x288 with 1 Axes>"
            ]
          },
          "metadata": {
            "tags": [],
            "needs_background": "light"
          }
        },
        {
          "output_type": "display_data",
          "data": {
            "image/png": "[encoded data removed]",
            "text/plain": [
              "<Figure size 432x288 with 1 Axes>"
            ]
          },
          "metadata": {
            "tags": [],
            "needs_background": "light"
          }
        }
      ]
    },
    {
      "cell_type": "code",
      "metadata": {
        "id": "hU5qhB27S5Vt",
        "colab_type": "code",
        "colab": {}
      },
      "source": [
        "data['capital-gain_log'] = np.log((data['capital-gain'])+1)\n",
        "data['capital-loss_log'] = np.log((data['capital-loss'])+1)"
      ],
      "execution_count": 91,
      "outputs": []
    },
    {
      "cell_type": "code",
      "metadata": {
        "id": "5kWnWD-Jmtkf",
        "colab_type": "code",
        "colab": {
          "base_uri": "https://localhost:8080/",
          "height": 384
        },
        "outputId": "4408dbc9-69f6-4802-fd9a-056507c39fe7"
      },
      "source": [
        "data.head()"
      ],
      "execution_count": 92,
      "outputs": [
        {
          "output_type": "execute_result",
          "data": {
            "text/html": [
              "<div>\n",
              "<style scoped>\n",
              "    .dataframe tbody tr th:only-of-type {\n",
              "        vertical-align: middle;\n",
              "    }\n",
              "\n",
              "    .dataframe tbody tr th {\n",
              "        vertical-align: top;\n",
              "    }\n",
              "\n",
              "    .dataframe thead th {\n",
              "        text-align: right;\n",
              "    }\n",
              "</style>\n",
              "<table border=\"1\" class=\"dataframe\">\n",
              "  <thead>\n",
              "    <tr style=\"text-align: right;\">\n",
              "      <th></th>\n",
              "      <th>age</th>\n",
              "      <th>workclass</th>\n",
              "      <th>education_level</th>\n",
              "      <th>education-num</th>\n",
              "      <th>marital-status</th>\n",
              "      <th>occupation</th>\n",
              "      <th>relationship</th>\n",
              "      <th>race</th>\n",
              "      <th>sex</th>\n",
              "      <th>capital-gain</th>\n",
              "      <th>capital-loss</th>\n",
              "      <th>hours-per-week</th>\n",
              "      <th>native-country</th>\n",
              "      <th>income</th>\n",
              "      <th>capital-gain_log</th>\n",
              "      <th>capital-loss_log</th>\n",
              "    </tr>\n",
              "  </thead>\n",
              "  <tbody>\n",
              "    <tr>\n",
              "      <th>0</th>\n",
              "      <td>39</td>\n",
              "      <td>State-gov</td>\n",
              "      <td>Bachelors</td>\n",
              "      <td>13.0</td>\n",
              "      <td>Never-married</td>\n",
              "      <td>Adm-clerical</td>\n",
              "      <td>Not-in-family</td>\n",
              "      <td>White</td>\n",
              "      <td>Male</td>\n",
              "      <td>2174.0</td>\n",
              "      <td>0.0</td>\n",
              "      <td>40.0</td>\n",
              "      <td>United-States</td>\n",
              "      <td>&lt;=50K</td>\n",
              "      <td>7.684784</td>\n",
              "      <td>0.0</td>\n",
              "    </tr>\n",
              "    <tr>\n",
              "      <th>1</th>\n",
              "      <td>50</td>\n",
              "      <td>Self-emp-not-inc</td>\n",
              "      <td>Bachelors</td>\n",
              "      <td>13.0</td>\n",
              "      <td>Married-civ-spouse</td>\n",
              "      <td>Exec-managerial</td>\n",
              "      <td>Husband</td>\n",
              "      <td>White</td>\n",
              "      <td>Male</td>\n",
              "      <td>0.0</td>\n",
              "      <td>0.0</td>\n",
              "      <td>13.0</td>\n",
              "      <td>United-States</td>\n",
              "      <td>&lt;=50K</td>\n",
              "      <td>0.000000</td>\n",
              "      <td>0.0</td>\n",
              "    </tr>\n",
              "    <tr>\n",
              "      <th>2</th>\n",
              "      <td>38</td>\n",
              "      <td>Private</td>\n",
              "      <td>HS-grad</td>\n",
              "      <td>9.0</td>\n",
              "      <td>Divorced</td>\n",
              "      <td>Handlers-cleaners</td>\n",
              "      <td>Not-in-family</td>\n",
              "      <td>White</td>\n",
              "      <td>Male</td>\n",
              "      <td>0.0</td>\n",
              "      <td>0.0</td>\n",
              "      <td>40.0</td>\n",
              "      <td>United-States</td>\n",
              "      <td>&lt;=50K</td>\n",
              "      <td>0.000000</td>\n",
              "      <td>0.0</td>\n",
              "    </tr>\n",
              "    <tr>\n",
              "      <th>3</th>\n",
              "      <td>53</td>\n",
              "      <td>Private</td>\n",
              "      <td>11th</td>\n",
              "      <td>7.0</td>\n",
              "      <td>Married-civ-spouse</td>\n",
              "      <td>Handlers-cleaners</td>\n",
              "      <td>Husband</td>\n",
              "      <td>Black</td>\n",
              "      <td>Male</td>\n",
              "      <td>0.0</td>\n",
              "      <td>0.0</td>\n",
              "      <td>40.0</td>\n",
              "      <td>United-States</td>\n",
              "      <td>&lt;=50K</td>\n",
              "      <td>0.000000</td>\n",
              "      <td>0.0</td>\n",
              "    </tr>\n",
              "    <tr>\n",
              "      <th>4</th>\n",
              "      <td>28</td>\n",
              "      <td>Private</td>\n",
              "      <td>Bachelors</td>\n",
              "      <td>13.0</td>\n",
              "      <td>Married-civ-spouse</td>\n",
              "      <td>Prof-specialty</td>\n",
              "      <td>Wife</td>\n",
              "      <td>Black</td>\n",
              "      <td>Female</td>\n",
              "      <td>0.0</td>\n",
              "      <td>0.0</td>\n",
              "      <td>40.0</td>\n",
              "      <td>Cuba</td>\n",
              "      <td>&lt;=50K</td>\n",
              "      <td>0.000000</td>\n",
              "      <td>0.0</td>\n",
              "    </tr>\n",
              "  </tbody>\n",
              "</table>\n",
              "</div>"
            ],
            "text/plain": [
              "   age          workclass  ... capital-gain_log  capital-loss_log\n",
              "0   39          State-gov  ...         7.684784               0.0\n",
              "1   50   Self-emp-not-inc  ...         0.000000               0.0\n",
              "2   38            Private  ...         0.000000               0.0\n",
              "3   53            Private  ...         0.000000               0.0\n",
              "4   28            Private  ...         0.000000               0.0\n",
              "\n",
              "[5 rows x 16 columns]"
            ]
          },
          "metadata": {
            "tags": []
          },
          "execution_count": 92
        }
      ]
    },
    {
      "cell_type": "code",
      "metadata": {
        "id": "itcIoTPam3ok",
        "colab_type": "code",
        "colab": {
          "base_uri": "https://localhost:8080/",
          "height": 545
        },
        "outputId": "d4591f31-884d-4f8b-ebe6-32210cfcf219"
      },
      "source": [
        "for i in ['capital-gain_log', 'capital-loss_log']:\n",
        "    my_plot(i)"
      ],
      "execution_count": 93,
      "outputs": [
        {
          "output_type": "display_data",
          "data": {
            "image/png": "[encoded data removed]",
            "text/plain": [
              "<Figure size 432x288 with 1 Axes>"
            ]
          },
          "metadata": {
            "tags": [],
            "needs_background": "light"
          }
        },
        {
          "output_type": "display_data",
          "data": {
            "image/png": "[encoded data removed]",
            "text/plain": [
              "<Figure size 432x288 with 1 Axes>"
            ]
          },
          "metadata": {
            "tags": [],
            "needs_background": "light"
          }
        }
      ]
    },
    {
      "cell_type": "code",
      "metadata": {
        "id": "pUDUahZ3nFZv",
        "colab_type": "code",
        "colab": {
          "base_uri": "https://localhost:8080/",
          "height": 384
        },
        "outputId": "a9d77366-6f35-4bdd-82b0-d393df42d455"
      },
      "source": [
        "data_log_transformed = data.drop(['capital-gain', 'capital-loss'], axis=1)\n",
        "data_log_transformed.head()"
      ],
      "execution_count": 94,
      "outputs": [
        {
          "output_type": "execute_result",
          "data": {
            "text/html": [
              "<div>\n",
              "<style scoped>\n",
              "    .dataframe tbody tr th:only-of-type {\n",
              "        vertical-align: middle;\n",
              "    }\n",
              "\n",
              "    .dataframe tbody tr th {\n",
              "        vertical-align: top;\n",
              "    }\n",
              "\n",
              "    .dataframe thead th {\n",
              "        text-align: right;\n",
              "    }\n",
              "</style>\n",
              "<table border=\"1\" class=\"dataframe\">\n",
              "  <thead>\n",
              "    <tr style=\"text-align: right;\">\n",
              "      <th></th>\n",
              "      <th>age</th>\n",
              "      <th>workclass</th>\n",
              "      <th>education_level</th>\n",
              "      <th>education-num</th>\n",
              "      <th>marital-status</th>\n",
              "      <th>occupation</th>\n",
              "      <th>relationship</th>\n",
              "      <th>race</th>\n",
              "      <th>sex</th>\n",
              "      <th>hours-per-week</th>\n",
              "      <th>native-country</th>\n",
              "      <th>income</th>\n",
              "      <th>capital-gain_log</th>\n",
              "      <th>capital-loss_log</th>\n",
              "    </tr>\n",
              "  </thead>\n",
              "  <tbody>\n",
              "    <tr>\n",
              "      <th>0</th>\n",
              "      <td>39</td>\n",
              "      <td>State-gov</td>\n",
              "      <td>Bachelors</td>\n",
              "      <td>13.0</td>\n",
              "      <td>Never-married</td>\n",
              "      <td>Adm-clerical</td>\n",
              "      <td>Not-in-family</td>\n",
              "      <td>White</td>\n",
              "      <td>Male</td>\n",
              "      <td>40.0</td>\n",
              "      <td>United-States</td>\n",
              "      <td>&lt;=50K</td>\n",
              "      <td>7.684784</td>\n",
              "      <td>0.0</td>\n",
              "    </tr>\n",
              "    <tr>\n",
              "      <th>1</th>\n",
              "      <td>50</td>\n",
              "      <td>Self-emp-not-inc</td>\n",
              "      <td>Bachelors</td>\n",
              "      <td>13.0</td>\n",
              "      <td>Married-civ-spouse</td>\n",
              "      <td>Exec-managerial</td>\n",
              "      <td>Husband</td>\n",
              "      <td>White</td>\n",
              "      <td>Male</td>\n",
              "      <td>13.0</td>\n",
              "      <td>United-States</td>\n",
              "      <td>&lt;=50K</td>\n",
              "      <td>0.000000</td>\n",
              "      <td>0.0</td>\n",
              "    </tr>\n",
              "    <tr>\n",
              "      <th>2</th>\n",
              "      <td>38</td>\n",
              "      <td>Private</td>\n",
              "      <td>HS-grad</td>\n",
              "      <td>9.0</td>\n",
              "      <td>Divorced</td>\n",
              "      <td>Handlers-cleaners</td>\n",
              "      <td>Not-in-family</td>\n",
              "      <td>White</td>\n",
              "      <td>Male</td>\n",
              "      <td>40.0</td>\n",
              "      <td>United-States</td>\n",
              "      <td>&lt;=50K</td>\n",
              "      <td>0.000000</td>\n",
              "      <td>0.0</td>\n",
              "    </tr>\n",
              "    <tr>\n",
              "      <th>3</th>\n",
              "      <td>53</td>\n",
              "      <td>Private</td>\n",
              "      <td>11th</td>\n",
              "      <td>7.0</td>\n",
              "      <td>Married-civ-spouse</td>\n",
              "      <td>Handlers-cleaners</td>\n",
              "      <td>Husband</td>\n",
              "      <td>Black</td>\n",
              "      <td>Male</td>\n",
              "      <td>40.0</td>\n",
              "      <td>United-States</td>\n",
              "      <td>&lt;=50K</td>\n",
              "      <td>0.000000</td>\n",
              "      <td>0.0</td>\n",
              "    </tr>\n",
              "    <tr>\n",
              "      <th>4</th>\n",
              "      <td>28</td>\n",
              "      <td>Private</td>\n",
              "      <td>Bachelors</td>\n",
              "      <td>13.0</td>\n",
              "      <td>Married-civ-spouse</td>\n",
              "      <td>Prof-specialty</td>\n",
              "      <td>Wife</td>\n",
              "      <td>Black</td>\n",
              "      <td>Female</td>\n",
              "      <td>40.0</td>\n",
              "      <td>Cuba</td>\n",
              "      <td>&lt;=50K</td>\n",
              "      <td>0.000000</td>\n",
              "      <td>0.0</td>\n",
              "    </tr>\n",
              "  </tbody>\n",
              "</table>\n",
              "</div>"
            ],
            "text/plain": [
              "   age          workclass  ... capital-gain_log  capital-loss_log\n",
              "0   39          State-gov  ...         7.684784               0.0\n",
              "1   50   Self-emp-not-inc  ...         0.000000               0.0\n",
              "2   38            Private  ...         0.000000               0.0\n",
              "3   53            Private  ...         0.000000               0.0\n",
              "4   28            Private  ...         0.000000               0.0\n",
              "\n",
              "[5 rows x 14 columns]"
            ]
          },
          "metadata": {
            "tags": []
          },
          "execution_count": 94
        }
      ]
    },
    {
      "cell_type": "code",
      "metadata": {
        "id": "yoilHm8unfyS",
        "colab_type": "code",
        "colab": {}
      },
      "source": [
        ""
      ],
      "execution_count": 94,
      "outputs": []
    },
    {
      "cell_type": "markdown",
      "metadata": {
        "id": "usgGKlwKof7y",
        "colab_type": "text"
      },
      "source": [
        "# Data preprocessing"
      ]
    },
    {
      "cell_type": "code",
      "metadata": {
        "id": "opTNX0JzokAr",
        "colab_type": "code",
        "colab": {
          "base_uri": "https://localhost:8080/",
          "height": 0
        },
        "outputId": "5078ef5b-73a7-4a8b-b525-d784b9a88c8a"
      },
      "source": [
        "# Encode the 'income_label' data to numerical values\n",
        "data_log_transformed['income'].replace({\"<=50K\":0, \">50K\":1}, inplace=True)\n",
        "data_log_transformed.head()"
      ],
      "execution_count": 95,
      "outputs": [
        {
          "output_type": "execute_result",
          "data": {
            "text/html": [
              "<div>\n",
              "<style scoped>\n",
              "    .dataframe tbody tr th:only-of-type {\n",
              "        vertical-align: middle;\n",
              "    }\n",
              "\n",
              "    .dataframe tbody tr th {\n",
              "        vertical-align: top;\n",
              "    }\n",
              "\n",
              "    .dataframe thead th {\n",
              "        text-align: right;\n",
              "    }\n",
              "</style>\n",
              "<table border=\"1\" class=\"dataframe\">\n",
              "  <thead>\n",
              "    <tr style=\"text-align: right;\">\n",
              "      <th></th>\n",
              "      <th>age</th>\n",
              "      <th>workclass</th>\n",
              "      <th>education_level</th>\n",
              "      <th>education-num</th>\n",
              "      <th>marital-status</th>\n",
              "      <th>occupation</th>\n",
              "      <th>relationship</th>\n",
              "      <th>race</th>\n",
              "      <th>sex</th>\n",
              "      <th>hours-per-week</th>\n",
              "      <th>native-country</th>\n",
              "      <th>income</th>\n",
              "      <th>capital-gain_log</th>\n",
              "      <th>capital-loss_log</th>\n",
              "    </tr>\n",
              "  </thead>\n",
              "  <tbody>\n",
              "    <tr>\n",
              "      <th>0</th>\n",
              "      <td>39</td>\n",
              "      <td>State-gov</td>\n",
              "      <td>Bachelors</td>\n",
              "      <td>13.0</td>\n",
              "      <td>Never-married</td>\n",
              "      <td>Adm-clerical</td>\n",
              "      <td>Not-in-family</td>\n",
              "      <td>White</td>\n",
              "      <td>Male</td>\n",
              "      <td>40.0</td>\n",
              "      <td>United-States</td>\n",
              "      <td>0</td>\n",
              "      <td>7.684784</td>\n",
              "      <td>0.0</td>\n",
              "    </tr>\n",
              "    <tr>\n",
              "      <th>1</th>\n",
              "      <td>50</td>\n",
              "      <td>Self-emp-not-inc</td>\n",
              "      <td>Bachelors</td>\n",
              "      <td>13.0</td>\n",
              "      <td>Married-civ-spouse</td>\n",
              "      <td>Exec-managerial</td>\n",
              "      <td>Husband</td>\n",
              "      <td>White</td>\n",
              "      <td>Male</td>\n",
              "      <td>13.0</td>\n",
              "      <td>United-States</td>\n",
              "      <td>0</td>\n",
              "      <td>0.000000</td>\n",
              "      <td>0.0</td>\n",
              "    </tr>\n",
              "    <tr>\n",
              "      <th>2</th>\n",
              "      <td>38</td>\n",
              "      <td>Private</td>\n",
              "      <td>HS-grad</td>\n",
              "      <td>9.0</td>\n",
              "      <td>Divorced</td>\n",
              "      <td>Handlers-cleaners</td>\n",
              "      <td>Not-in-family</td>\n",
              "      <td>White</td>\n",
              "      <td>Male</td>\n",
              "      <td>40.0</td>\n",
              "      <td>United-States</td>\n",
              "      <td>0</td>\n",
              "      <td>0.000000</td>\n",
              "      <td>0.0</td>\n",
              "    </tr>\n",
              "    <tr>\n",
              "      <th>3</th>\n",
              "      <td>53</td>\n",
              "      <td>Private</td>\n",
              "      <td>11th</td>\n",
              "      <td>7.0</td>\n",
              "      <td>Married-civ-spouse</td>\n",
              "      <td>Handlers-cleaners</td>\n",
              "      <td>Husband</td>\n",
              "      <td>Black</td>\n",
              "      <td>Male</td>\n",
              "      <td>40.0</td>\n",
              "      <td>United-States</td>\n",
              "      <td>0</td>\n",
              "      <td>0.000000</td>\n",
              "      <td>0.0</td>\n",
              "    </tr>\n",
              "    <tr>\n",
              "      <th>4</th>\n",
              "      <td>28</td>\n",
              "      <td>Private</td>\n",
              "      <td>Bachelors</td>\n",
              "      <td>13.0</td>\n",
              "      <td>Married-civ-spouse</td>\n",
              "      <td>Prof-specialty</td>\n",
              "      <td>Wife</td>\n",
              "      <td>Black</td>\n",
              "      <td>Female</td>\n",
              "      <td>40.0</td>\n",
              "      <td>Cuba</td>\n",
              "      <td>0</td>\n",
              "      <td>0.000000</td>\n",
              "      <td>0.0</td>\n",
              "    </tr>\n",
              "  </tbody>\n",
              "</table>\n",
              "</div>"
            ],
            "text/plain": [
              "   age          workclass  ... capital-gain_log  capital-loss_log\n",
              "0   39          State-gov  ...         7.684784               0.0\n",
              "1   50   Self-emp-not-inc  ...         0.000000               0.0\n",
              "2   38            Private  ...         0.000000               0.0\n",
              "3   53            Private  ...         0.000000               0.0\n",
              "4   28            Private  ...         0.000000               0.0\n",
              "\n",
              "[5 rows x 14 columns]"
            ]
          },
          "metadata": {
            "tags": []
          },
          "execution_count": 95
        }
      ]
    },
    {
      "cell_type": "code",
      "metadata": {
        "id": "Xe4kvgYdsU6h",
        "colab_type": "code",
        "colab": {
          "base_uri": "https://localhost:8080/",
          "height": 0
        },
        "outputId": "5d6177e6-088d-418d-c550-7307686e9c2b"
      },
      "source": [
        "# One-hot encode the categorical features data\n",
        "data_cat_transformed = pd.get_dummies(data_log_transformed, drop_first=True)\n",
        "\n",
        "# Print the number of features after one-hot encoding\n",
        "print(\"{} total features after one-hot encoding.\".format(len(data_cat_transformed.columns)))\n",
        "print(data_cat_transformed.columns)"
      ],
      "execution_count": 96,
      "outputs": [
        {
          "output_type": "stream",
          "text": [
            "96 total features after one-hot encoding.\n",
            "Index(['age', 'education-num', 'hours-per-week', 'income', 'capital-gain_log',\n",
            "       'capital-loss_log', 'workclass_ Local-gov', 'workclass_ Private',\n",
            "       'workclass_ Self-emp-inc', 'workclass_ Self-emp-not-inc',\n",
            "       'workclass_ State-gov', 'workclass_ Without-pay',\n",
            "       'education_level_ 11th', 'education_level_ 12th',\n",
            "       'education_level_ 1st-4th', 'education_level_ 5th-6th',\n",
            "       'education_level_ 7th-8th', 'education_level_ 9th',\n",
            "       'education_level_ Assoc-acdm', 'education_level_ Assoc-voc',\n",
            "       'education_level_ Bachelors', 'education_level_ Doctorate',\n",
            "       'education_level_ HS-grad', 'education_level_ Masters',\n",
            "       'education_level_ Preschool', 'education_level_ Prof-school',\n",
            "       'education_level_ Some-college', 'marital-status_ Married-AF-spouse',\n",
            "       'marital-status_ Married-civ-spouse',\n",
            "       'marital-status_ Married-spouse-absent',\n",
            "       'marital-status_ Never-married', 'marital-status_ Separated',\n",
            "       'marital-status_ Widowed', 'occupation_ Armed-Forces',\n",
            "       'occupation_ Craft-repair', 'occupation_ Exec-managerial',\n",
            "       'occupation_ Farming-fishing', 'occupation_ Handlers-cleaners',\n",
            "       'occupation_ Machine-op-inspct', 'occupation_ Other-service',\n",
            "       'occupation_ Priv-house-serv', 'occupation_ Prof-specialty',\n",
            "       'occupation_ Protective-serv', 'occupation_ Sales',\n",
            "       'occupation_ Tech-support', 'occupation_ Transport-moving',\n",
            "       'relationship_ Not-in-family', 'relationship_ Other-relative',\n",
            "       'relationship_ Own-child', 'relationship_ Unmarried',\n",
            "       'relationship_ Wife', 'race_ Asian-Pac-Islander', 'race_ Black',\n",
            "       'race_ Other', 'race_ White', 'sex_ Male', 'native-country_ Canada',\n",
            "       'native-country_ China', 'native-country_ Columbia',\n",
            "       'native-country_ Cuba', 'native-country_ Dominican-Republic',\n",
            "       'native-country_ Ecuador', 'native-country_ El-Salvador',\n",
            "       'native-country_ England', 'native-country_ France',\n",
            "       'native-country_ Germany', 'native-country_ Greece',\n",
            "       'native-country_ Guatemala', 'native-country_ Haiti',\n",
            "       'native-country_ Holand-Netherlands', 'native-country_ Honduras',\n",
            "       'native-country_ Hong', 'native-country_ Hungary',\n",
            "       'native-country_ India', 'native-country_ Iran',\n",
            "       'native-country_ Ireland', 'native-country_ Italy',\n",
            "       'native-country_ Jamaica', 'native-country_ Japan',\n",
            "       'native-country_ Laos', 'native-country_ Mexico',\n",
            "       'native-country_ Nicaragua',\n",
            "       'native-country_ Outlying-US(Guam-USVI-etc)', 'native-country_ Peru',\n",
            "       'native-country_ Philippines', 'native-country_ Poland',\n",
            "       'native-country_ Portugal', 'native-country_ Puerto-Rico',\n",
            "       'native-country_ Scotland', 'native-country_ South',\n",
            "       'native-country_ Taiwan', 'native-country_ Thailand',\n",
            "       'native-country_ Trinadad&Tobago', 'native-country_ United-States',\n",
            "       'native-country_ Vietnam', 'native-country_ Yugoslavia'],\n",
            "      dtype='object')\n"
          ],
          "name": "stdout"
        }
      ]
    },
    {
      "cell_type": "code",
      "metadata": {
        "id": "jWlnQqkwsX5Y",
        "colab_type": "code",
        "colab": {}
      },
      "source": [
        ""
      ],
      "execution_count": 96,
      "outputs": []
    },
    {
      "cell_type": "markdown",
      "metadata": {
        "id": "8swfV6SiuNoh",
        "colab_type": "text"
      },
      "source": [
        "# shuffle and split data "
      ]
    },
    {
      "cell_type": "code",
      "metadata": {
        "id": "lfuxfwipuREy",
        "colab_type": "code",
        "colab": {}
      },
      "source": [
        "# Split the data into features and target label\n",
        "X = data_cat_transformed.drop('income', axis=1)\n",
        "y = data_cat_transformed['income']"
      ],
      "execution_count": 97,
      "outputs": []
    },
    {
      "cell_type": "code",
      "metadata": {
        "id": "vRl0IIm_9Y_t",
        "colab_type": "code",
        "colab": {
          "base_uri": "https://localhost:8080/",
          "height": 0
        },
        "outputId": "df8973c0-1c29-42b0-e79e-720aa51413fc"
      },
      "source": [
        "# Split the 'features' and 'income' data into training and testing sets\n",
        "X_train, X_test, y_train, y_test = train_test_split(X, y,test_size = 0.2, random_state = 0)\n",
        "\n",
        "# Show the results of the split\n",
        "print(\"Training set has {} samples.\".format(X_train.shape[0]))\n",
        "print(\"Testing set has {} samples.\".format(X_test.shape[0]))"
      ],
      "execution_count": 98,
      "outputs": [
        {
          "output_type": "stream",
          "text": [
            "Training set has 36177 samples.\n",
            "Testing set has 9045 samples.\n"
          ],
          "name": "stdout"
        }
      ]
    },
    {
      "cell_type": "code",
      "metadata": {
        "id": "Sxzfg9ss9h6y",
        "colab_type": "code",
        "colab": {}
      },
      "source": [
        ""
      ],
      "execution_count": 98,
      "outputs": []
    },
    {
      "cell_type": "markdown",
      "metadata": {
        "id": "GGfmq0lIBlZj",
        "colab_type": "text"
      },
      "source": [
        "# Normalizing Numerical feature"
      ]
    },
    {
      "cell_type": "code",
      "metadata": {
        "id": "grxTC0O5BzgW",
        "colab_type": "code",
        "colab": {}
      },
      "source": [
        "# Initialize a scaler, then apply it to the features\n",
        "scaler = MinMaxScaler()\n",
        "\n",
        "X_train_scaled = scaler.fit_transform(X_train)\n",
        "X_test_scaled = scaler.transform(X_test)"
      ],
      "execution_count": 99,
      "outputs": []
    },
    {
      "cell_type": "code",
      "metadata": {
        "id": "Pi_lUBUHB0U4",
        "colab_type": "code",
        "colab": {
          "base_uri": "https://localhost:8080/",
          "height": 0
        },
        "outputId": "94b4f09c-ca8b-48db-95e3-6df466a16d35"
      },
      "source": [
        "# Show an example with scaling applied\n",
        "X_train_scaled"
      ],
      "execution_count": 100,
      "outputs": [
        {
          "output_type": "execute_result",
          "data": {
            "text/plain": [
              "array([[0.4109589 , 0.6       , 0.5       , ..., 1.        , 0.        ,\n",
              "        0.        ],\n",
              "       [0.43835616, 0.53333333, 0.39795918, ..., 1.        , 0.        ,\n",
              "        0.        ],\n",
              "       [0.05479452, 0.66666667, 0.35714286, ..., 1.        , 0.        ,\n",
              "        0.        ],\n",
              "       ...,\n",
              "       [0.56164384, 0.8       , 0.55102041, ..., 1.        , 0.        ,\n",
              "        0.        ],\n",
              "       [0.53424658, 0.53333333, 0.39795918, ..., 1.        , 0.        ,\n",
              "        0.        ],\n",
              "       [0.23287671, 0.53333333, 0.34693878, ..., 1.        , 0.        ,\n",
              "        0.        ]])"
            ]
          },
          "metadata": {
            "tags": []
          },
          "execution_count": 100
        }
      ]
    },
    {
      "cell_type": "code",
      "metadata": {
        "id": "-kblQU9QB3hW",
        "colab_type": "code",
        "colab": {
          "base_uri": "https://localhost:8080/",
          "height": 0
        },
        "outputId": "7757c18c-1f4f-4b3f-f0fc-363d25ac8cf6"
      },
      "source": [
        "y_train_scaled = y_train.reset_index(drop=True)\n",
        "y_train_scaled"
      ],
      "execution_count": 101,
      "outputs": [
        {
          "output_type": "execute_result",
          "data": {
            "text/plain": [
              "0        0\n",
              "1        0\n",
              "2        0\n",
              "3        1\n",
              "4        0\n",
              "        ..\n",
              "36172    0\n",
              "36173    1\n",
              "36174    1\n",
              "36175    0\n",
              "36176    0\n",
              "Name: income, Length: 36177, dtype: int64"
            ]
          },
          "metadata": {
            "tags": []
          },
          "execution_count": 101
        }
      ]
    },
    {
      "cell_type": "code",
      "metadata": {
        "id": "TwKzGw2gB9Vo",
        "colab_type": "code",
        "colab": {
          "base_uri": "https://localhost:8080/",
          "height": 0
        },
        "outputId": "3dc89a0f-37bd-447c-a975-dc33ab1215d2"
      },
      "source": [
        "y_test_scaled = y_test.reset_index(drop=True)\n",
        "y_test_scaled"
      ],
      "execution_count": 102,
      "outputs": [
        {
          "output_type": "execute_result",
          "data": {
            "text/plain": [
              "0       0\n",
              "1       0\n",
              "2       0\n",
              "3       0\n",
              "4       0\n",
              "       ..\n",
              "9040    0\n",
              "9041    0\n",
              "9042    0\n",
              "9043    0\n",
              "9044    1\n",
              "Name: income, Length: 9045, dtype: int64"
            ]
          },
          "metadata": {
            "tags": []
          },
          "execution_count": 102
        }
      ]
    },
    {
      "cell_type": "code",
      "metadata": {
        "id": "-zU6PgYtCA28",
        "colab_type": "code",
        "colab": {}
      },
      "source": [
        ""
      ],
      "execution_count": 102,
      "outputs": []
    },
    {
      "cell_type": "markdown",
      "metadata": {
        "id": "NQIkZw0-G105",
        "colab_type": "text"
      },
      "source": [
        "# Supervised Learning Models"
      ]
    },
    {
      "cell_type": "code",
      "metadata": {
        "id": "MFdbHuQ6G9HF",
        "colab_type": "code",
        "colab": {}
      },
      "source": [
        "def train_predict(classifier): \n",
        "    '''\n",
        "    inputs:\n",
        "       - classifier: the learning algorithm to be trained and predicted on\n",
        "    '''\n",
        "    \n",
        "    results = {}\n",
        "    \n",
        "    # Fit the classifier to the training data and Calculate the time\n",
        "    start_train = time()\n",
        "    classifier = classifier.fit(X_train_scaled, y_train_scaled)\n",
        "    end_train = time()\n",
        "    results['train_time'] = round((end_train-start_train), 2)\n",
        "\n",
        "    # Predict the training/testing labels and Calculate the time\n",
        "    start_test = time()\n",
        "    y_pred_train = classifier.predict(X_train_scaled)\n",
        "    y_pred_test = classifier.predict(X_test_scaled)\n",
        "    end_test = time()   \n",
        "    results['pred_time'] = round((end_test-start_test), 2)\n",
        "            \n",
        "    # Model evaluation (training/testing data) using accuracy\n",
        "    results['acc_train'] = round(accuracy_score(y_train_scaled, y_pred_train), 2)\n",
        "    results['acc_test'] = round(accuracy_score(y_test_scaled, y_pred_test), 2)\n",
        "    \n",
        "    # Model evaluation (training/testing data) using f1-score\n",
        "    results['f1_train'] = round(f1_score(y_train_scaled, y_pred_train), 2)\n",
        "    results['f1_test'] = round(f1_score(y_test_scaled, y_pred_test), 2)\n",
        "    \n",
        "    # Display classification_report\n",
        "    report = classification_report(y_test_scaled, y_pred_test)\n",
        "       \n",
        "    \n",
        "    # Return the results\n",
        "    return results, report"
      ],
      "execution_count": 103,
      "outputs": []
    },
    {
      "cell_type": "code",
      "metadata": {
        "id": "rXToYYIWHD7N",
        "colab_type": "code",
        "colab": {}
      },
      "source": [
        ""
      ],
      "execution_count": 103,
      "outputs": []
    },
    {
      "cell_type": "markdown",
      "metadata": {
        "id": "j-eqtrTqRCNg",
        "colab_type": "text"
      },
      "source": [
        "# Initialize the classifiers\n"
      ]
    },
    {
      "cell_type": "code",
      "metadata": {
        "id": "P823TlCTRGvf",
        "colab_type": "code",
        "colab": {}
      },
      "source": [
        "# Initialize the classifiers\n",
        "#clf_DT = DecisionTreeClassifier(random_state=0)\n",
        "#clf_LR = LogisticRegression(random_state=0)\n",
        "\n",
        "clf_KNN = KNeighborsClassifier(n_neighbors=2)\n",
        "clf_NB =  GaussianNB()\n",
        "\n",
        "clf_list = [clf_KNN,clf_NB]\n",
        "\n",
        "# Compare evaluation of the different classifiers\n",
        "clf_evaluation = {}\n",
        "clf_report = {}\n",
        "\n",
        "for clf in clf_list:\n",
        "    clf_evaluation[clf.__class__.__name__] = train_predict(clf)[0]\n",
        "    clf_report[clf.__class__.__name__] = train_predict(clf)[1]"
      ],
      "execution_count": 104,
      "outputs": []
    },
    {
      "cell_type": "code",
      "metadata": {
        "id": "f4sbYW1GRjDG",
        "colab_type": "code",
        "colab": {
          "base_uri": "https://localhost:8080/",
          "height": 217
        },
        "outputId": "22346aa9-e859-454a-d06c-c83146ec01b5"
      },
      "source": [
        "clf_evaluation"
      ],
      "execution_count": 105,
      "outputs": [
        {
          "output_type": "execute_result",
          "data": {
            "text/plain": [
              "{'GaussianNB': {'acc_test': 0.58,\n",
              "  'acc_train': 0.58,\n",
              "  'f1_test': 0.52,\n",
              "  'f1_train': 0.52,\n",
              "  'pred_time': 0.05,\n",
              "  'train_time': 0.08},\n",
              " 'KNeighborsClassifier': {'acc_test': 0.81,\n",
              "  'acc_train': 0.89,\n",
              "  'f1_test': 0.51,\n",
              "  'f1_train': 0.72,\n",
              "  'pred_time': 81.34,\n",
              "  'train_time': 1.82}}"
            ]
          },
          "metadata": {
            "tags": []
          },
          "execution_count": 105
        }
      ]
    },
    {
      "cell_type": "code",
      "metadata": {
        "id": "MIT8GZDXaaWH",
        "colab_type": "code",
        "colab": {
          "base_uri": "https://localhost:8080/",
          "height": 167
        },
        "outputId": "e887ad5b-6afd-404a-fc5a-35ac461c7a0f"
      },
      "source": [
        "print(clf_report['KNeighborsClassifier'])"
      ],
      "execution_count": 106,
      "outputs": [
        {
          "output_type": "stream",
          "text": [
            "              precision    recall  f1-score   support\n",
            "\n",
            "           0       0.83      0.95      0.88      6840\n",
            "           1       0.70      0.40      0.51      2205\n",
            "\n",
            "    accuracy                           0.81      9045\n",
            "   macro avg       0.77      0.67      0.70      9045\n",
            "weighted avg       0.80      0.81      0.79      9045\n",
            "\n"
          ],
          "name": "stdout"
        }
      ]
    },
    {
      "cell_type": "code",
      "metadata": {
        "id": "rBnlkGoOgrbA",
        "colab_type": "code",
        "colab": {
          "base_uri": "https://localhost:8080/",
          "height": 167
        },
        "outputId": "6d81946d-a37e-4081-eadc-c9a08a6f44af"
      },
      "source": [
        "print(clf_report['GaussianNB'])"
      ],
      "execution_count": 107,
      "outputs": [
        {
          "output_type": "stream",
          "text": [
            "              precision    recall  f1-score   support\n",
            "\n",
            "           0       0.96      0.47      0.63      6840\n",
            "           1       0.36      0.93      0.52      2205\n",
            "\n",
            "    accuracy                           0.58      9045\n",
            "   macro avg       0.66      0.70      0.57      9045\n",
            "weighted avg       0.81      0.58      0.60      9045\n",
            "\n"
          ],
          "name": "stdout"
        }
      ]
    },
    {
      "cell_type": "code",
      "metadata": {
        "id": "defFFBKZg5E6",
        "colab_type": "code",
        "colab": {}
      },
      "source": [
        "legend = []\n",
        "for i in range(len(clf_list)):\n",
        "    legend.append(clf_list[i].__class__.__name__)"
      ],
      "execution_count": 108,
      "outputs": []
    },
    {
      "cell_type": "code",
      "metadata": {
        "id": "V0zOKsGsg__V",
        "colab_type": "code",
        "colab": {}
      },
      "source": [
        "def eval_plot(labels, y_label, title):\n",
        "\n",
        "    clf1 = [clf_evaluation[legend[0]][labels[0]], clf_evaluation[legend[0]][labels[1]]]\n",
        "    clf2 = [clf_evaluation[legend[1]][labels[0]], clf_evaluation[legend[1]][labels[1]]]\n",
        "  #  clf3 = [clf_evaluation[legend[2]][labels[0]], clf_evaluation[legend[2]][labels[1]]]\n",
        "   # clf4 = [clf_evaluation[legend[3]][labels[0]], clf_evaluation[legend[3]][labels[1]]]\n",
        "    x = np.arange(len(labels))  # the label locations\n",
        "    width = 0.2  # the width of the bars\n",
        "\n",
        "    fig, ax = plt.subplots()\n",
        "    ax.bar(x - width/2, clf1, width, label=legend[0])\n",
        "    ax.bar(x + width/2, clf2, width, label=legend[1])\n",
        "   # ax.bar(x + width*3/2, clf3, width, label=legend[2])\n",
        "   # ax.bar(x + width*5/2, clf4, width, label=legend[3])\n",
        "    # Add labels, title, and legend\n",
        "    ax.set_ylabel(y_label)\n",
        "    ax.set_title(title)\n",
        "    ax.set_xticks(x)\n",
        "    ax.set_xticklabels(labels)\n",
        "    ax.legend(loc='center left', bbox_to_anchor=(1, 0.5))\n",
        "\n",
        "    # Add bars annotation\n",
        "    for i in ax.patches:\n",
        "        # get_x pulls left or right; get_height pushes up or down\n",
        "        ax.text(i.get_x()+(width/2), i.get_height()+0.01,\n",
        "                str(i.get_height()), fontsize=11,\n",
        "                color='black', ha='center')\n",
        "\n",
        "    plt.show()\n"
      ],
      "execution_count": 109,
      "outputs": []
    },
    {
      "cell_type": "code",
      "metadata": {
        "id": "llhpxsluhDbM",
        "colab_type": "code",
        "colab": {
          "base_uri": "https://localhost:8080/",
          "height": 282
        },
        "outputId": "64ec7057-727c-4b6f-d056-3026aa66e7c4"
      },
      "source": [
        "labels = ['train_time', 'pred_time']\n",
        "y_label = 'Time'\n",
        "title = 'Train/Test Time per Classifier'\n",
        "eval_plot(labels, y_label, title)"
      ],
      "execution_count": 110,
      "outputs": [
        {
          "output_type": "display_data",
          "data": {
            "image/png": "[encoded data removed]",
            "text/plain": [
              "<Figure size 432x288 with 1 Axes>"
            ]
          },
          "metadata": {
            "tags": [],
            "needs_background": "light"
          }
        }
      ]
    },
    {
      "cell_type": "code",
      "metadata": {
        "id": "9VLfihXhhFdk",
        "colab_type": "code",
        "colab": {
          "base_uri": "https://localhost:8080/",
          "height": 282
        },
        "outputId": "2990d3e5-1569-4878-e23f-9b52f68e5791"
      },
      "source": [
        "labels = ['acc_train', 'acc_test']\n",
        "y_label = 'Acc_Score'\n",
        "title = 'Train/Test Accuracy per Classifier'\n",
        "eval_plot(labels, y_label, title)"
      ],
      "execution_count": 111,
      "outputs": [
        {
          "output_type": "display_data",
          "data": {
            "image/png": "[encoded data removed]",
            "text/plain": [
              "<Figure size 432x288 with 1 Axes>"
            ]
          },
          "metadata": {
            "tags": [],
            "needs_background": "light"
          }
        }
      ]
    },
    {
      "cell_type": "code",
      "metadata": {
        "id": "jxlJrPy-hiv-",
        "colab_type": "code",
        "colab": {}
      },
      "source": [
        ""
      ],
      "execution_count": 111,
      "outputs": []
    },
    {
      "cell_type": "markdown",
      "metadata": {
        "id": "bbVOgKgoJwVa",
        "colab_type": "text"
      },
      "source": [
        "# Improving Results"
      ]
    },
    {
      "cell_type": "code",
      "metadata": {
        "id": "m6PuPG7PJyKj",
        "colab_type": "code",
        "colab": {}
      },
      "source": [
        "def model_tuning(clf, parameters):    \n",
        "\n",
        "    # Evaluate using f1_score scoring object \n",
        "    scorer = make_scorer(f1_score)\n",
        "\n",
        "    # Perform grid search on the classifier and tune parameters, using scorer evaluation\n",
        "    grid_obj = GridSearchCV(estimator=clf, param_grid=parameters, scoring=scorer)\n",
        "\n",
        "    # Fit the grid search object to the training data and find the optimal parameters\n",
        "    grid_fit = grid_obj.fit(X_train_scaled, y_train_scaled)\n",
        "\n",
        "    # Get the best estimator\n",
        "    best_clf = grid_fit.best_estimator_\n",
        "\n",
        "    # Make predictions using the unoptimized and the best model\n",
        "    y_pred = (clf.fit(X_train_scaled, y_train_scaled)).predict(X_test_scaled)\n",
        "    y_best_pred = best_clf.predict(X_test_scaled)\n",
        "\n",
        "    # Report the before-and-after scores\n",
        "    print(\"Unoptimized {} model\\n------\".format(clf.__class__.__name__))\n",
        "    print(\"Accuracy score on testing data: {:.4f}\".format(accuracy_score(y_test_scaled, y_pred)))\n",
        "    print(\"F1-score on testing data: {:.4f}\".format(f1_score(y_test_scaled, y_pred)))\n",
        "    print(\"\\nOptimized Model\\n------\".format(clf.__class__.__name__))\n",
        "    print(\"Final Accuracy score on the testing data: {:.4f}\".format(accuracy_score(y_test_scaled, y_best_pred)))\n",
        "    print(\"Final F1-score on the testing data: {:.4f}\".format(f1_score(y_test_scaled, y_best_pred)))\n",
        "    \n",
        "    \n",
        "    return clf, best_clf, y_pred, y_best_pred"
      ],
      "execution_count": 112,
      "outputs": []
    },
    {
      "cell_type": "code",
      "metadata": {
        "id": "Bdr1ohAzJ1Rv",
        "colab_type": "code",
        "colab": {
          "base_uri": "https://localhost:8080/",
          "height": 167
        },
        "outputId": "94f53230-287d-4b82-8455-46c31aa18a25"
      },
      "source": [
        "clf = KNeighborsClassifier(n_neighbors=2)\n",
        "parameters = {'n_neighbors':[1, 2, 3, 4, 5,6],'leaf_size':[5,20,30,50],'p':[1,2]}\n",
        "\n",
        "clf, best_clf, y_pred, y_best_pred = model_tuning(clf, parameters)"
      ],
      "execution_count": 113,
      "outputs": [
        {
          "output_type": "stream",
          "text": [
            "Unoptimized KNeighborsClassifier model\n",
            "------\n",
            "Accuracy score on testing data: 0.8132\n",
            "F1-score on testing data: 0.5121\n",
            "\n",
            "Optimized Model\n",
            "------\n",
            "Final Accuracy score on the testing data: 0.8205\n",
            "Final F1-score on the testing data: 0.6163\n"
          ],
          "name": "stdout"
        }
      ]
    },
    {
      "cell_type": "code",
      "metadata": {
        "id": "efhJRT_3Oiwl",
        "colab_type": "code",
        "colab": {
          "base_uri": "https://localhost:8080/",
          "height": 67
        },
        "outputId": "b9381f9b-a3d5-4329-9e27-b1654c907595"
      },
      "source": [
        "clf\n",
        "best_clf"
      ],
      "execution_count": 115,
      "outputs": [
        {
          "output_type": "execute_result",
          "data": {
            "text/plain": [
              "KNeighborsClassifier(algorithm='auto', leaf_size=5, metric='minkowski',\n",
              "                     metric_params=None, n_jobs=None, n_neighbors=5, p=1,\n",
              "                     weights='uniform')"
            ]
          },
          "metadata": {
            "tags": []
          },
          "execution_count": 115
        }
      ]
    },
    {
      "cell_type": "code",
      "metadata": {
        "id": "sgqhJzwyNOvq",
        "colab_type": "code",
        "colab": {
          "base_uri": "https://localhost:8080/",
          "height": 371
        },
        "outputId": "cef7ae5a-b423-4f62-f4f6-b98ea07289d8"
      },
      "source": [
        "!pip install nbconvert"
      ],
      "execution_count": 116,
      "outputs": [
        {
          "output_type": "stream",
          "text": [
            "Requirement already satisfied: nbconvert in /usr/local/lib/python3.6/dist-packages (5.6.1)\n",
            "Requirement already satisfied: bleach in /usr/local/lib/python3.6/dist-packages (from nbconvert) (3.1.5)\n",
            "Requirement already satisfied: mistune<2,>=0.8.1 in /usr/local/lib/python3.6/dist-packages (from nbconvert) (0.8.4)\n",
            "Requirement already satisfied: traitlets>=4.2 in /usr/local/lib/python3.6/dist-packages (from nbconvert) (4.3.3)\n",
            "Requirement already satisfied: jinja2>=2.4 in /usr/local/lib/python3.6/dist-packages (from nbconvert) (2.11.2)\n",
            "Requirement already satisfied: pygments in /usr/local/lib/python3.6/dist-packages (from nbconvert) (2.6.1)\n",
            "Requirement already satisfied: defusedxml in /usr/local/lib/python3.6/dist-packages (from nbconvert) (0.6.0)\n",
            "Requirement already satisfied: entrypoints>=0.2.2 in /usr/local/lib/python3.6/dist-packages (from nbconvert) (0.3)\n",
            "Requirement already satisfied: pandocfilters>=1.4.1 in /usr/local/lib/python3.6/dist-packages (from nbconvert) (1.4.2)\n",
            "Requirement already satisfied: jupyter-core in /usr/local/lib/python3.6/dist-packages (from nbconvert) (4.6.3)\n",
            "Requirement already satisfied: nbformat>=4.4 in /usr/local/lib/python3.6/dist-packages (from nbconvert) (5.0.7)\n",
            "Requirement already satisfied: testpath in /usr/local/lib/python3.6/dist-packages (from nbconvert) (0.4.4)\n",
            "Requirement already satisfied: packaging in /usr/local/lib/python3.6/dist-packages (from bleach->nbconvert) (20.4)\n",
            "Requirement already satisfied: webencodings in /usr/local/lib/python3.6/dist-packages (from bleach->nbconvert) (0.5.1)\n",
            "Requirement already satisfied: six>=1.9.0 in /usr/local/lib/python3.6/dist-packages (from bleach->nbconvert) (1.15.0)\n",
            "Requirement already satisfied: ipython-genutils in /usr/local/lib/python3.6/dist-packages (from traitlets>=4.2->nbconvert) (0.2.0)\n",
            "Requirement already satisfied: decorator in /usr/local/lib/python3.6/dist-packages (from traitlets>=4.2->nbconvert) (4.4.2)\n",
            "Requirement already satisfied: MarkupSafe>=0.23 in /usr/local/lib/python3.6/dist-packages (from jinja2>=2.4->nbconvert) (1.1.1)\n",
            "Requirement already satisfied: jsonschema!=2.5.0,>=2.4 in /usr/local/lib/python3.6/dist-packages (from nbformat>=4.4->nbconvert) (2.6.0)\n",
            "Requirement already satisfied: pyparsing>=2.0.2 in /usr/local/lib/python3.6/dist-packages (from packaging->bleach->nbconvert) (2.4.7)\n"
          ],
          "name": "stdout"
        }
      ]
    },
    {
      "cell_type": "code",
      "metadata": {
        "id": "4CRK2OiwN7MS",
        "colab_type": "code",
        "colab": {
          "base_uri": "https://localhost:8080/",
          "height": 50
        },
        "outputId": "95ff1d95-abe4-4a85-c377-ca4997fe9f3f"
      },
      "source": [
        "!jupyter nbconvert --to html /content/Assignment4.ipynb"
      ],
      "execution_count": 117,
      "outputs": [
        {
          "output_type": "stream",
          "text": [
            "[NbConvertApp] Converting notebook /content/Assignment4.ipynb to html\n",
            "[NbConvertApp] Writing 430133 bytes to /content/Assignment4.html\n"
          ],
          "name": "stdout"
        }
      ]
    },
    {
      "cell_type": "code",
      "metadata": {
        "id": "OrwJrJWwOE4Q",
        "colab_type": "code",
        "colab": {}
      },
      "source": [
        ""
      ],
      "execution_count": null,
      "outputs": []
    }
  ]
}